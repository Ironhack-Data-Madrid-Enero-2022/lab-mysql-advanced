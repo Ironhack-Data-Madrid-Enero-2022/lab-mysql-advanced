{
 "cells": [
  {
   "cell_type": "code",
   "execution_count": 1,
   "metadata": {},
   "outputs": [],
   "source": [
    "import pandas as pd\n",
    "import mysql.connector as conn\n"
   ]
  },
  {
   "cell_type": "code",
   "execution_count": 25,
   "metadata": {},
   "outputs": [],
   "source": [
    "# We must import the password, in my case I'd like to keep it private, so I included it in a file .txt and will import it from there,\n",
    "password = open (\"../passwords.txt\").readlines()[0]\n",
    "password = password.strip()"
   ]
  },
  {
   "cell_type": "code",
   "execution_count": 26,
   "metadata": {},
   "outputs": [],
   "source": [
    "crea_db=conn.connect(host='localhost',\n",
    "                     user='root',\n",
    "                     passwd= password )\n",
    "\n",
    "cursor=crea_db.cursor()\n",
    "# check\n",
    "cursor.execute('show databases')\n",
    "if 'publications' in cursor: print('ok')"
   ]
  },
  {
   "cell_type": "code",
   "execution_count": 27,
   "metadata": {},
   "outputs": [],
   "source": [
    "db=conn.connect(host='localhost', # We can now connect to publications\n",
    "                     user='root',\n",
    "                     passwd=password,\n",
    "                     database='publications')\n",
    "\n",
    "cursor=db.cursor()\n",
    "cursor.execute('show tables') # we can check that we are in the right database\n",
    "\n",
    "# for x in cursor: # We checked and we are in the right database\n",
    "#     print(x)"
   ]
  },
  {
   "cell_type": "code",
   "execution_count": null,
   "metadata": {},
   "outputs": [],
   "source": []
  }
 ],
 "metadata": {
  "interpreter": {
   "hash": "d00a1931e609772884d4e4263bd83cd526fe20ad88d0f2499e0ed4fd2f889d0e"
  },
  "kernelspec": {
   "display_name": "Python 3.8.12 64-bit ('ironhack': conda)",
   "language": "python",
   "name": "python3"
  },
  "language_info": {
   "codemirror_mode": {
    "name": "ipython",
    "version": 3
   },
   "file_extension": ".py",
   "mimetype": "text/x-python",
   "name": "python",
   "nbconvert_exporter": "python",
   "pygments_lexer": "ipython3",
   "version": "3.8.12"
  },
  "orig_nbformat": 4
 },
 "nbformat": 4,
 "nbformat_minor": 2
}
