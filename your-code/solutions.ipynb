{
 "cells": [
  {
   "cell_type": "code",
   "execution_count": 15,
   "metadata": {},
   "outputs": [],
   "source": [
    "import pandas as pd\n",
    "import mysql.connector as conn\n"
   ]
  },
  {
   "cell_type": "code",
   "execution_count": 16,
   "metadata": {},
   "outputs": [],
   "source": [
    "# We must import the password, in my case I'd like to keep it private, so I included it in a file .txt and will import it from there,\n",
    "password = open (\"../passwords.txt\").readlines()[0]\n",
    "password = password.strip()"
   ]
  },
  {
   "cell_type": "code",
   "execution_count": 17,
   "metadata": {},
   "outputs": [],
   "source": [
    "crea_db=conn.connect(host='localhost',\n",
    "                     user='root',\n",
    "                     passwd= password )\n",
    "\n",
    "cursor=crea_db.cursor()\n",
    "# check\n",
    "cursor.execute('show databases')\n",
    "if 'publications' in cursor: print('ok')"
   ]
  },
  {
   "cell_type": "code",
   "execution_count": 18,
   "metadata": {},
   "outputs": [],
   "source": [
    "db=conn.connect(host='localhost', # We can now connect to publications\n",
    "                     user='root',  \n",
    "                     passwd=password,\n",
    "                     database='publications')\n",
    "\n",
    "cursor=db.cursor()\n",
    "cursor.execute('show tables') # we can check that we are in the right database\n",
    "# for x in cursor: # We checked and we are in the right database\n",
    "#     print(x)\n",
    "tablas = [i[0] for i in cursor] # we safe all the tables in a list to access easly"
   ]
  },
  {
   "cell_type": "code",
   "execution_count": 19,
   "metadata": {},
   "outputs": [],
   "source": [
    "# Now we can already write the right queries in order to work on the challange,\n",
    "# We need to use the formula, sales_royalty = titles.price * sales.qty * titles.royalty / 100 * titleauthor.royaltyper / 100\n",
    "# let's write and execute the first query,\n",
    "# STEP 1, once it works I am going to comment it \n",
    "# cursor.execute(''' select t.title_id as 'Title ID', a.au_id as 'Authors ID', (t.price*qty*t.royalty/100*ta.royaltyper/100) as 'Royalty'\n",
    "#                     from authors as a \n",
    "#                     left join titleauthor as ta on ta.au_id = a.au_id\n",
    "#                     left join titles as t on t.title_id = ta.title_id\n",
    "#                     left join sales as s on s.title_id = t.title_id\n",
    "#                     ;''')\n",
    "# Step 2\n",
    "# cursor.execute(''' select t.title_id as 'Title ID', a.au_id as 'Authors ID', SUM(t.price*qty*t.royalty/100*ta.royaltyper/100) as 'SUM Royalty'\n",
    "#                     from authors as a\n",
    "#                     left join titleauthor as ta \n",
    "#                     on ta.au_id = a.au_id\n",
    "#                     left join titles as t\n",
    "#                     on t.title_id = ta.title_id\n",
    "#                     inner join sales as s \n",
    "#                     on s.title_id = t.title_id\n",
    "#                     group by t.title_id, a.au_id\n",
    "#                     ; ''')\n",
    "# Step 3\n",
    "cursor.execute('''select a.au_id as 'Authors ID', SUM(t.price*qty*t.royalty/100*ta.royaltyper/100) as 'SUM Royalty'\n",
    "                    from authors as a\n",
    "                    left join titleauthor as ta \n",
    "                    on ta.au_id = a.au_id\n",
    "                    left join titles as t\n",
    "                    on t.title_id = ta.title_id\n",
    "                    inner join sales as s \n",
    "                    on s.title_id = t.title_id\n",
    "                    group by a.au_id\n",
    "                    ;''')\n",
    "                "
   ]
  },
  {
   "cell_type": "code",
   "execution_count": 21,
   "metadata": {},
   "outputs": [],
   "source": [
    "db=conn.connect(host='localhost', # We can now connect to publications\n",
    "                     user='root',  \n",
    "                     passwd=password,\n",
    "                     database='publications')\n",
    "cursor=db.cursor()\n",
    "# Another way to do this is using temporaty tables, and then using the previous temporary tables to generate a new output\n",
    "# STEP 1, once it works I am going to comment it \n",
    "cursor.execute('''DROP TABLE IF EXISTS Step1Table\n",
    ";\n",
    "\n",
    "CREATE temporary table Step1Table\n",
    "select t.title_id as 'Title_ID', a.au_id as 'Authors_ID', (t.price*qty*t.royalty/100*ta.royaltyper/100) as 'Royalty'\n",
    "from authors as a\n",
    "left join titleauthor as ta \n",
    "on ta.au_id = a.au_id\n",
    "left join titles as t\n",
    "on t.title_id = ta.title_id\n",
    "inner join sales as s \n",
    "on s.title_id = t.title_id\n",
    ";\n",
    "DROP TABLE IF EXISTS Step2Table\n",
    ";\n",
    "CREATE temporary table Step2Table\n",
    "select Title_ID,Authors_ID, SUM(Royalty) \n",
    "from Step1Table \n",
    "group by Title_ID, Authors_ID\n",
    ";\n",
    "\n",
    "select Authors_ID, SUM(Royalty) \n",
    "from Step1Table \n",
    "group by Authors_ID\n",
    ";''')\n",
    "# The result from this challange and the previous challange is exacly the same!!!!\n"
   ]
  },
  {
   "cell_type": "code",
   "execution_count": null,
   "metadata": {},
   "outputs": [],
   "source": [
    "db=conn.connect(host='localhost', # We can now connect to publications\n",
    "                     user='root',  \n",
    "                     passwd=password,\n",
    "                     database='publications')\n",
    "cursor=db.cursor()\n",
    "# For this next challange I am using an additonal way of generating this data, with derivative tables\n",
    "cursor.execute('''create table most_profiting_authors \n",
    "select Authors_ID, SUM(Royalty) most_profiting_authors\n",
    "from (select Title_ID, Authors_ID, SUM(Royalty)  as 'Royalty'\n",
    "from (select t.title_id as 'Title_ID', a.au_id as 'Authors_ID', (t.price*qty*t.royalty/100*ta.royaltyper/100) as 'Royalty'\n",
    "from authors as a\n",
    "left join titleauthor as ta \n",
    "on ta.au_id = a.au_id\n",
    "left join titles as t\n",
    "on t.title_id = ta.title_id\n",
    "inner join sales as s \n",
    "on s.title_id = t.title_id) myDerivedTable\n",
    "group by Title_ID, Authors_ID) mdt\n",
    "group by Authors_ID\n",
    ";\n",
    "select * from most_profiting_authors ''')\n",
    "# The result from this challange and the previous challange is exacly the same!!!!\n"
   ]
  }
 ],
 "metadata": {
  "interpreter": {
   "hash": "d00a1931e609772884d4e4263bd83cd526fe20ad88d0f2499e0ed4fd2f889d0e"
  },
  "kernelspec": {
   "display_name": "Python 3.8.12 64-bit ('ironhack': conda)",
   "language": "python",
   "name": "python3"
  },
  "language_info": {
   "codemirror_mode": {
    "name": "ipython",
    "version": 3
   },
   "file_extension": ".py",
   "mimetype": "text/x-python",
   "name": "python",
   "nbconvert_exporter": "python",
   "pygments_lexer": "ipython3",
   "version": "3.8.12"
  },
  "orig_nbformat": 4
 },
 "nbformat": 4,
 "nbformat_minor": 2
}
