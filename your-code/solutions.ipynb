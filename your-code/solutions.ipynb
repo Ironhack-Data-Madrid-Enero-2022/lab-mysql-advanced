{
 "cells": [
  {
   "cell_type": "markdown",
   "metadata": {},
   "source": [
    "# CON SQLAlquemy"
   ]
  },
  {
   "cell_type": "code",
   "execution_count": null,
   "metadata": {},
   "outputs": [],
   "source": [
    "#!pip install SQLAlchemy"
   ]
  },
  {
   "cell_type": "code",
   "execution_count": 18,
   "metadata": {},
   "outputs": [],
   "source": [
    "#!pip install pymysql"
   ]
  },
  {
   "cell_type": "code",
   "execution_count": null,
   "metadata": {},
   "outputs": [],
   "source": []
  },
  {
   "cell_type": "code",
   "execution_count": null,
   "metadata": {},
   "outputs": [],
   "source": []
  },
  {
   "cell_type": "code",
   "execution_count": null,
   "metadata": {},
   "outputs": [],
   "source": []
  },
  {
   "cell_type": "code",
   "execution_count": null,
   "metadata": {},
   "outputs": [],
   "source": []
  },
  {
   "cell_type": "code",
   "execution_count": null,
   "metadata": {},
   "outputs": [],
   "source": []
  },
  {
   "cell_type": "code",
   "execution_count": null,
   "metadata": {},
   "outputs": [],
   "source": []
  },
  {
   "cell_type": "code",
   "execution_count": null,
   "metadata": {},
   "outputs": [],
   "source": []
  },
  {
   "cell_type": "code",
   "execution_count": null,
   "metadata": {},
   "outputs": [],
   "source": []
  },
  {
   "cell_type": "code",
   "execution_count": null,
   "metadata": {},
   "outputs": [],
   "source": []
  },
  {
   "cell_type": "code",
   "execution_count": null,
   "metadata": {},
   "outputs": [],
   "source": []
  },
  {
   "cell_type": "code",
   "execution_count": null,
   "metadata": {},
   "outputs": [],
   "source": []
  },
  {
   "cell_type": "code",
   "execution_count": null,
   "metadata": {},
   "outputs": [],
   "source": []
  },
  {
   "cell_type": "code",
   "execution_count": null,
   "metadata": {},
   "outputs": [],
   "source": []
  },
  {
   "cell_type": "code",
   "execution_count": 17,
   "metadata": {},
   "outputs": [],
   "source": [
    "# !pip install mysql-connector-python"
   ]
  },
  {
   "cell_type": "code",
   "execution_count": 16,
   "metadata": {},
   "outputs": [],
   "source": [
    "#import mysql.connector as conn"
   ]
  },
  {
   "cell_type": "code",
   "execution_count": 3,
   "metadata": {},
   "outputs": [],
   "source": [
    "#supersecretpass = open(\"../.txt\",\"r\").read()"
   ]
  },
  {
   "cell_type": "code",
   "execution_count": 4,
   "metadata": {},
   "outputs": [],
   "source": [
    "# Creamos la conexión:\n",
    "#\n",
    "#db_con=conn.connect(host='localhost',\n",
    "#                     user='root',\n",
    "#                     passwd=supersecretpass)\n",
    "#\n",
    "#cursor=db_con.cursor()"
   ]
  },
  {
   "cell_type": "code",
   "execution_count": 5,
   "metadata": {},
   "outputs": [
    {
     "name": "stdout",
     "output_type": "stream",
     "text": [
      "('information_schema',)\n",
      "('mydb',)\n",
      "('mysql',)\n",
      "('performance_schema',)\n",
      "('publications',)\n",
      "('sys',)\n"
     ]
    }
   ],
   "source": [
    "#cursor.execute('show databases') # Check desde Hall del Servidor para ver que está la DB deseada, PUBLICATIONS\n",
    "#for x in cursor:\n",
    "#    print(x)"
   ]
  },
  {
   "cell_type": "code",
   "execution_count": 6,
   "metadata": {},
   "outputs": [],
   "source": [
    "# Conectamos directamente con la DB PUBLICATIONS\n",
    "#db=conn.connect(host='localhost',\n",
    "#                     user='root',\n",
    "#                     passwd=supersecretpass,\n",
    "#                     database='publications')\n",
    "#cursor=db.cursor()"
   ]
  },
  {
   "cell_type": "markdown",
   "metadata": {},
   "source": [
    "## CHALLENGE 1"
   ]
  },
  {
   "cell_type": "code",
   "execution_count": 14,
   "metadata": {},
   "outputs": [],
   "source": [
    "#cursor.execute('select\\\n",
    "#            titleauthor.title_id as titleID,\\\n",
    "#            titleauthor.au_id as authorID,\\\n",
    "#            (titles.price * sales.qty * titles.royalty / 100 * titleauthor.royaltyper / 100) as Royalty\\\n",
    "#            from  titleauthor\\\n",
    "#            left join titles on titleauthor.title_id = titles.title_id\\\n",
    "#            left join sales on titles.title_id=sales.title_id \\\n",
    "#            group by titleauthor.au_id\\\n",
    "#            order by Royalty desc')"
   ]
  },
  {
   "cell_type": "code",
   "execution_count": 15,
   "metadata": {},
   "outputs": [
    {
     "name": "stdout",
     "output_type": "stream",
     "text": [
      "('PC1035', '238-95-7766', Decimal('110.160000000000'))\n",
      "('TC3218', '807-91-6654', Decimal('83.800000000000'))\n",
      "('PC8888', '846-92-7186', Decimal('50.000000000000'))\n",
      "('PC8888', '427-17-2319', Decimal('50.000000000000'))\n",
      "('TC4203', '648-92-1872', Decimal('33.460000000000'))\n",
      "('PS1372', '756-30-7391', Decimal('32.385000000000'))\n",
      "('PS3333', '172-32-1176', Decimal('29.985000000000'))\n",
      "('BU7832', '274-80-9391', Decimal('29.985000000000'))\n",
      "('MC2222', '712-45-1867', Decimal('23.988000000000'))\n",
      "('BU1111', '724-80-9391', Decimal('17.925000000000'))\n",
      "('MC3021', '722-51-5454', Decimal('13.455000000000'))\n",
      "('TC7777', '672-71-3249', Decimal('11.992000000000'))\n",
      "('BU1111', '267-41-2394', Decimal('11.950000000000'))\n",
      "('TC7777', '472-27-2349', Decimal('8.994000000000'))\n",
      "('BU1032', '409-56-7008', Decimal('5.997000000000'))\n",
      "('MC3021', '899-46-2035', Decimal('4.485000000000'))\n",
      "('BU1032', '213-46-8915', Decimal('3.998000000000'))\n",
      "('PS2091', '998-72-3567', Decimal('1.971000000000'))\n",
      "('PC9999', '486-29-1786', None)\n"
     ]
    }
   ],
   "source": [
    "#for x in cursor:\n",
    "#   print(x)"
   ]
  },
  {
   "cell_type": "code",
   "execution_count": null,
   "metadata": {},
   "outputs": [],
   "source": []
  },
  {
   "cell_type": "code",
   "execution_count": null,
   "metadata": {},
   "outputs": [],
   "source": []
  },
  {
   "cell_type": "code",
   "execution_count": null,
   "metadata": {},
   "outputs": [],
   "source": []
  }
 ],
 "metadata": {
  "kernelspec": {
   "display_name": "Python 3 (ipykernel)",
   "language": "python",
   "name": "python3"
  },
  "language_info": {
   "codemirror_mode": {
    "name": "ipython",
    "version": 3
   },
   "file_extension": ".py",
   "mimetype": "text/x-python",
   "name": "python",
   "nbconvert_exporter": "python",
   "pygments_lexer": "ipython3",
   "version": "3.9.7"
  }
 },
 "nbformat": 4,
 "nbformat_minor": 2
}
